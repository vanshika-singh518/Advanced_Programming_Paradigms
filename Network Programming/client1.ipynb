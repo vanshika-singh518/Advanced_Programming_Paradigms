{
 "cells": [
  {
   "cell_type": "code",
   "execution_count": 1,
   "metadata": {},
   "outputs": [
    {
     "name": "stdout",
     "output_type": "stream",
     "text": [
      "Client socket created\n",
      "A command issued in server side: to be executed in client side\n"
     ]
    }
   ],
   "source": [
    "import socket\n",
    "\n",
    "c = socket.socket(socket.AF_INET, socket.SOCK_STREAM)\n",
    "print('Client socket created')\n",
    "\n",
    "c.connect(('localhost', 9999))\n",
    "\n",
    "print(c.recv(1024).decode())"
   ]
  },
  {
   "cell_type": "code",
   "execution_count": null,
   "metadata": {},
   "outputs": [],
   "source": []
  }
 ],
 "metadata": {
  "kernelspec": {
   "display_name": "Python 3",
   "language": "python",
   "name": "python3"
  },
  "language_info": {
   "codemirror_mode": {
    "name": "ipython",
    "version": 3
   },
   "file_extension": ".py",
   "mimetype": "text/x-python",
   "name": "python",
   "nbconvert_exporter": "python",
   "pygments_lexer": "ipython3",
   "version": "3.8.5"
  }
 },
 "nbformat": 4,
 "nbformat_minor": 4
}
