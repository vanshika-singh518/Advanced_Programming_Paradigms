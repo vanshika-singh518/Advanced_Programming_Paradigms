{
 "cells": [
  {
   "cell_type": "code",
   "execution_count": null,
   "metadata": {},
   "outputs": [
    {
     "name": "stdout",
     "output_type": "stream",
     "text": [
      "Socket created!\n",
      "Waiting for connections\n",
      "Connected with  ('127.0.0.1', 60020)\n"
     ]
    }
   ],
   "source": [
    "import socket\n",
    "\n",
    "s = socket.socket(socket.AF_INET, socket.SOCK_STREAM)\n",
    "print('Socket created!')\n",
    "\n",
    "# RANGE FOR PORT NUMBER: 0 - 65535\n",
    "s.bind(('localhost', 9999))\n",
    "\n",
    "s.listen(3)\n",
    "print('Waiting for connections')\n",
    "\n",
    "while True:\n",
    "    c, c_addr = s.accept()\n",
    "    print('Connected with ', c_addr)\n",
    "    c.send(bytes('A command issued in server side: to be executed in client side', 'utf-8'))\n",
    "    c.close()"
   ]
  },
  {
   "cell_type": "code",
   "execution_count": null,
   "metadata": {},
   "outputs": [],
   "source": []
  }
 ],
 "metadata": {
  "kernelspec": {
   "display_name": "Python 3",
   "language": "python",
   "name": "python3"
  },
  "language_info": {
   "codemirror_mode": {
    "name": "ipython",
    "version": 3
   },
   "file_extension": ".py",
   "mimetype": "text/x-python",
   "name": "python",
   "nbconvert_exporter": "python",
   "pygments_lexer": "ipython3",
   "version": "3.8.5"
  }
 },
 "nbformat": 4,
 "nbformat_minor": 4
}
