{
 "cells": [
  {
   "cell_type": "markdown",
   "metadata": {},
   "source": [
    "### Question 1\n",
    "#### Write a Python program to find those numbers which are divisible by 8 and multiple of 5, between 1000 and 2000 (both included)"
   ]
  },
  {
   "cell_type": "code",
   "execution_count": null,
   "metadata": {},
   "outputs": [],
   "source": [
    "lower = 1000\n",
    "upper = 2000\n",
    "\n",
    "print(\"Numbers which are divisible by 8 and multiple of 5 between\", lower, \"and\", upper, \"are:\")\n",
    "\n",
    "for num in range(lower, upper + 1):\n",
    "   if (num % 40) == 0: \n",
    "      print(num)"
   ]
  },
  {
   "cell_type": "markdown",
   "metadata": {},
   "source": [
    "### Question 2\n",
    "#### Write a program to guess a number between 1 to 9. Note : User is prompted to enter a guess. If the user guesses wrong then the prompt appears again until the guess is correct, on successful guess, user will get a \"Well guessed!\" message, and the program will exit."
   ]
  },
  {
   "cell_type": "code",
   "execution_count": null,
   "metadata": {},
   "outputs": [],
   "source": [
    "import random\n",
    "\n",
    "n = random.randint(0,9)\n",
    "num = 0\n",
    "while (num != n):\n",
    "  num = int(input('Guess a number between 1 to 9: '))\n",
    "  if(num == n):\n",
    "    print(\"Well guessed!!\")\n",
    "    break"
   ]
  },
  {
   "cell_type": "markdown",
   "metadata": {},
   "source": [
    "### Question 3\n",
    "#### Write a program to construct the following pattern, using a nested for loop."
   ]
  },
  {
   "cell_type": "code",
   "execution_count": 4,
   "metadata": {},
   "outputs": [],
   "source": [
    "# select the block of code to comment and then press ctrl+/ key combination to comment the highlighted portion\n",
    "# this is used for multiline comment in jupyter notebook\n",
    "\n",
    "# *\n",
    "# * *\n",
    "# * * *\n",
    "# * * * *\n",
    "# * * * * *\n",
    "# * * * *\n",
    "# * * *\n",
    "# * *\n",
    "# *    "
   ]
  },
  {
   "cell_type": "code",
   "execution_count": 15,
   "metadata": {},
   "outputs": [
    {
     "name": "stdout",
     "output_type": "stream",
     "text": [
      "\n",
      "\n",
      "* \n",
      "\n",
      "* * \n",
      "\n",
      "* * * \n",
      "\n",
      "* * * * \n",
      "\n",
      "* * * * * \n",
      "\n",
      "* * * * \n",
      "\n",
      "* * * \n",
      "\n",
      "* * \n",
      "\n",
      "* \n",
      "\n"
     ]
    }
   ],
   "source": [
    "n = 5\n",
    "for i in range(n):\n",
    "    for j in range(i):\n",
    "        print(\"* \",end='')\n",
    "    print('\\n')\n",
    "\n",
    "for i in range(n,0,-1):\n",
    "    for j in range(i):\n",
    "        print(\"* \",end='')\n",
    "    print('\\n')\n"
   ]
  },
  {
   "cell_type": "markdown",
   "metadata": {},
   "source": [
    "### Question 4\n",
    "#### Write a program that accepts a word from the user and reverse it. ( should not use any functions)"
   ]
  },
  {
   "cell_type": "code",
   "execution_count": null,
   "metadata": {},
   "outputs": [],
   "source": [
    "str=input(\"Enter the word: \")\n",
    "l=len(str)-1\n",
    "while (l >= 0):\n",
    "  print(str[l],end='')\n",
    "  l-=1"
   ]
  },
  {
   "cell_type": "markdown",
   "metadata": {},
   "source": [
    "### Question 5\n",
    "#### Write a Python program which takes two digits m (row) and n (column) as input and generates a two-dimensional array. The element value in the i-th row and j-th column of the array should be i*j. \n",
    "**Note :** i = 0,1.., m-1 <br>j = 0,1, n-1. <br>Test Data : Rows = 3, Columns = 4 <br>Expected Result : [[0, 0, 0, 0], [0, 1, 2, 3], [0, 2, 4, 6]]"
   ]
  },
  {
   "cell_type": "code",
   "execution_count": 14,
   "metadata": {},
   "outputs": [
    {
     "name": "stdout",
     "output_type": "stream",
     "text": [
      "Enter number of rows: 3\n",
      "Enter number of columns: 4\n",
      "[[0, 0, 0, 0], [0, 1, 2, 3], [0, 2, 4, 6]]\n"
     ]
    }
   ],
   "source": [
    "rows = int(input(\"Enter number of rows: \"))\n",
    "columns = int(input(\"Enter number of columns: \"))\n",
    "\n",
    "arr=[[0 for col in range(columns)] for row in range(rows)]\n",
    "\n",
    "for i in range(rows):\n",
    "    for j in range(columns):\n",
    "        arr[i][j]=i*j\n",
    "print(arr)"
   ]
  },
  {
   "cell_type": "markdown",
   "metadata": {},
   "source": [
    "### Question 6\n",
    "#### Write a program that accepts a string and calculate the number of digits and letters. \n",
    "Sample Data : SRMIST 2022<br>Expected Output :<br>Letters 6<br>Digits 4"
   ]
  },
  {
   "cell_type": "code",
   "execution_count": null,
   "metadata": {},
   "outputs": [],
   "source": [
    "str=input(\"Enter the string: \")\n",
    "l=len(str)\n",
    "digit=0\n",
    "letter=0\n",
    "for i in range(0,l):\n",
    "  if str[i].isdigit():\n",
    "    digit = digit + 1\n",
    "  elif str[i].isalpha():\n",
    "    letter = letter + 1\n",
    "print(\"Letters {0}\\nDigits {1}\".format(letter,digit))"
   ]
  },
  {
   "cell_type": "markdown",
   "metadata": {},
   "source": [
    "### Question 7\n",
    "#### Write a program to check the validity of password input by users.\n",
    "**Validation :**\n",
    "<br>At least 1 letter between [a-z] and 1 letter between [A-Z].\n",
    "<br>At least 1 number between [0-9].\n",
    "<br>At least 1 character from [$#@].\n",
    "<br>Minimum length 6 characters.\n",
    "<br>Maximum length 16 characters.\n",
    "\n",
    "**Sample Input/Output :**\n",
    "<br>Input your password: srmist@2017\n",
    "<br>Not a Valid Password\n",
    "<br>Input your password: Srmist@2022\n",
    "<br>Valid Password"
   ]
  },
  {
   "cell_type": "code",
   "execution_count": null,
   "metadata": {},
   "outputs": [],
   "source": []
  },
  {
   "cell_type": "markdown",
   "metadata": {},
   "source": [
    "### Question 8\n",
    "#### Write a program to find numbers between 100 and 400 (both included) where each digit of a number is an even number. The numbers obtained should be printed in a comma-separated sequence."
   ]
  },
  {
   "cell_type": "code",
   "execution_count": null,
   "metadata": {},
   "outputs": [],
   "source": []
  },
  {
   "cell_type": "markdown",
   "metadata": {},
   "source": [
    "### Question 9\n",
    "#### Write a program to convert month name to a number of days."
   ]
  },
  {
   "cell_type": "code",
   "execution_count": null,
   "metadata": {},
   "outputs": [],
   "source": []
  },
  {
   "cell_type": "markdown",
   "metadata": {},
   "source": [
    "### Question 10\n",
    "#### Write a Python program to sum of two given integers. However, if the sum is between 105 to 200 it will return 200."
   ]
  },
  {
   "cell_type": "code",
   "execution_count": null,
   "metadata": {},
   "outputs": [],
   "source": []
  },
  {
   "cell_type": "markdown",
   "metadata": {},
   "source": [
    "### Question 11\n",
    "#### Write a program to construct the following pattern, using a nested loop number.\n",
    "**Expected Output:**\n",
    "<br>999999999\n",
    "<br>88888888\n",
    "<br>7777777\n",
    "<br>666666\n",
    "<br>55555\n",
    "<br>4444\n",
    "<br>333\n",
    "<br>22\n",
    "<br>1"
   ]
  },
  {
   "cell_type": "code",
   "execution_count": null,
   "metadata": {},
   "outputs": [],
   "source": []
  },
  {
   "cell_type": "markdown",
   "metadata": {},
   "source": [
    "### Question 12\n",
    "#### Write a program to create a histogram from a given list of integers."
   ]
  },
  {
   "cell_type": "code",
   "execution_count": null,
   "metadata": {},
   "outputs": [],
   "source": []
  },
  {
   "cell_type": "markdown",
   "metadata": {},
   "source": [
    "### Question 13\n",
    "#### Write a Python program that will return true if the two given integer values are equal or their sum or difference is 5."
   ]
  },
  {
   "cell_type": "code",
   "execution_count": null,
   "metadata": {},
   "outputs": [],
   "source": [
    "num1 = int(input('Enter first number: '))\n",
    "num2 = int(input('Enter second number: '))\n",
    "\n",
    "if num1 == num2:\n",
    "  print(\"True\")\n",
    "elif (num1+num2) == 5 :\n",
    "  print(\"True\")\n",
    "elif (num1-num2) == 5:\n",
    "  print(\"True\")\n",
    "else:\n",
    "  print(\"False\")"
   ]
  },
  {
   "cell_type": "markdown",
   "metadata": {},
   "source": [
    "### Question 14\n",
    "#### Write a Python program to compute the distance between the points (x1, y1) and (x2, y2)."
   ]
  },
  {
   "cell_type": "code",
   "execution_count": null,
   "metadata": {},
   "outputs": [],
   "source": [
    "x1 = int(input('Enter value for x1: '))\n",
    "y1 = int(input('Enter value for y1: '))\n",
    "x2 = int(input('Enter value for x2: '))\n",
    "y2 = int(input('Enter value for y2: '))\n",
    "\n",
    "dist=(((x1-x2)**2) + ((y1-y2)**2))**0.5\n",
    "print(\"Distance between the coordinates ({0},{1}) and ({2},{3}) is {4}.\".format(x1,y1,x2,y2,dist))"
   ]
  },
  {
   "cell_type": "markdown",
   "metadata": {},
   "source": [
    "### Question 15\n",
    "#### Write a function that takes a sequence of numbers and determines whether all are different from each other."
   ]
  },
  {
   "cell_type": "code",
   "execution_count": null,
   "metadata": {},
   "outputs": [],
   "source": []
  },
  {
   "cell_type": "markdown",
   "metadata": {},
   "source": [
    "### Question 16\n",
    "#### Write a Python program to count the number of each character of a given text."
   ]
  },
  {
   "cell_type": "code",
   "execution_count": null,
   "metadata": {},
   "outputs": [],
   "source": []
  },
  {
   "cell_type": "markdown",
   "metadata": {},
   "source": [
    "### Question 17\n",
    "#### Write a Python program that accept a positive number and subtract from this number the sum of its digits and so on. This operation continues until the number is positive."
   ]
  },
  {
   "cell_type": "code",
   "execution_count": null,
   "metadata": {},
   "outputs": [],
   "source": []
  },
  {
   "cell_type": "markdown",
   "metadata": {},
   "source": [
    "### Question 18\n",
    "#### Write a Python program to find the digits which are absent in a given mobile number."
   ]
  },
  {
   "cell_type": "code",
   "execution_count": null,
   "metadata": {},
   "outputs": [],
   "source": []
  },
  {
   "cell_type": "markdown",
   "metadata": {},
   "source": [
    "### Question 19\n",
    "#### Write a program to reverse the digits of a given number and add it to the original, if the sum is not a palindrome repeat this procedure."
   ]
  },
  {
   "cell_type": "code",
   "execution_count": null,
   "metadata": {},
   "outputs": [],
   "source": []
  },
  {
   "cell_type": "markdown",
   "metadata": {},
   "source": [
    "### Question 20\n",
    "#### Write a program to print the length of the series and the series from the given 3rd term, 3rd last term and the sum of a series."
   ]
  },
  {
   "cell_type": "code",
   "execution_count": null,
   "metadata": {},
   "outputs": [],
   "source": []
  }
 ],
 "metadata": {
  "kernelspec": {
   "display_name": "Python 3",
   "language": "python",
   "name": "python3"
  },
  "language_info": {
   "codemirror_mode": {
    "name": "ipython",
    "version": 3
   },
   "file_extension": ".py",
   "mimetype": "text/x-python",
   "name": "python",
   "nbconvert_exporter": "python",
   "pygments_lexer": "ipython3",
   "version": "3.8.5"
  }
 },
 "nbformat": 4,
 "nbformat_minor": 4
}
