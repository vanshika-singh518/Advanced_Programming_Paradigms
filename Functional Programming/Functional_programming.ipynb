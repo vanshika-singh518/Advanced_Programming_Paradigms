{
 "cells": [
  {
   "cell_type": "markdown",
   "metadata": {},
   "source": [
    "### Q1. Write a lambda function to convert measurements from meters to feet."
   ]
  },
  {
   "cell_type": "code",
   "execution_count": 3,
   "metadata": {},
   "outputs": [
    {
     "name": "stdout",
     "output_type": "stream",
     "text": [
      "Enter length in metres: 4\n",
      "4.00 metres = 13.123 feet\n"
     ]
    }
   ],
   "source": [
    "# Take metre input from user\n",
    "metre = int(input(\"Enter length in metres: \"))\n",
    "\n",
    "# conversion factor\n",
    "conv_fac = 3.28084\n",
    "\n",
    "# lambda function \n",
    "feet = lambda a : a * conv_fac\n",
    "\n",
    "print(\"%.2f metres = %.3f feet\" %(metre, feet(metre)))"
   ]
  },
  {
   "cell_type": "markdown",
   "metadata": {},
   "source": [
    "### Q4. Find the difference in age between the oldest and youngest family members, and return their respective ages and the age difference."
   ]
  },
  {
   "cell_type": "code",
   "execution_count": 10,
   "metadata": {},
   "outputs": [
    {
     "name": "stdout",
     "output_type": "stream",
     "text": [
      "Enter ages of a Family members separated by space: 45 17 20 47 78\n",
      "list:  ['45', '17', '20', '47', '78']\n",
      "(Youngest, Oldest, Age Difference):  (17, 78, 61)\n"
     ]
    }
   ],
   "source": [
    "def difference_in_ages(ages):\n",
    "    return (min(ages), max(ages), max(ages) - min(ages))\n",
    "\n",
    "\n",
    "n = (input(\"Enter ages of a Family members separated by space: \"))\n",
    "ages = n.split()\n",
    "# print list\n",
    "print('list: ', ages)\n",
    "\n",
    "# convert each item to int type\n",
    "for i in range(len(ages)):\n",
    "    # convert each item to int type\n",
    "    ages[i] = int(ages[i])\n",
    "\n",
    "#result\n",
    "print(\"(Youngest, Oldest, Age Difference): \",difference_in_ages(ages))"
   ]
  },
  {
   "cell_type": "code",
   "execution_count": null,
   "metadata": {},
   "outputs": [],
   "source": []
  }
 ],
 "metadata": {
  "kernelspec": {
   "display_name": "Python 3",
   "language": "python",
   "name": "python3"
  },
  "language_info": {
   "codemirror_mode": {
    "name": "ipython",
    "version": 3
   },
   "file_extension": ".py",
   "mimetype": "text/x-python",
   "name": "python",
   "nbconvert_exporter": "python",
   "pygments_lexer": "ipython3",
   "version": "3.8.5"
  }
 },
 "nbformat": 4,
 "nbformat_minor": 4
}
