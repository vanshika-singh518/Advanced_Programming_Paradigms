{
 "cells": [
  {
   "cell_type": "markdown",
   "metadata": {},
   "source": []
  },
  {
   "cell_type": "code",
   "execution_count": 1,
   "metadata": {},
   "outputs": [
    {
     "name": "stdout",
     "output_type": "stream",
     "text": [
      "Opened database successfully\n"
     ]
    }
   ],
   "source": [
    "import sqlite3\n",
    "conn = sqlite3.connect('test.db')\n",
    "print (\"Opened database successfully\")"
   ]
  },
  {
   "cell_type": "code",
   "execution_count": 2,
   "metadata": {},
   "outputs": [
    {
     "name": "stdout",
     "output_type": "stream",
     "text": [
      "Table created successfully\n"
     ]
    }
   ],
   "source": [
    "conn.execute('''CREATE TABLE RECIPES\n",
    " (ID INT(11),\n",
    " NAME VARCHAR(400),\n",
    " DESCRIPTION TEXT,\n",
    " CATEGORY_ID INT(11),\n",
    " CHEF_ID INT(255),\n",
    " CREATED DATETIME);''')\n",
    "print(\"Table created successfully\")"
   ]
  },
  {
   "cell_type": "code",
   "execution_count": null,
   "metadata": {},
   "outputs": [],
   "source": [
    "conn.execute(\"INSERT INTO RECIPES (ID,NAME,DESCRIPTION,CATEGORY_ID,CHEF_ID,CREATED) \\\n",
    " VALUES (453, 'Noodles', 'Chinese', 21, 2343, 2012)\")\n",
    "conn.execute(\"INSERT INTO RECIPES VALUES (343, 'Pav-bhaji', 'Indian', 11, 2393, 2017)\")\n",
    "conn.execute(\"INSERT INTO RECIPES VALUES (213, 'Aloo Chat', 'Indian', 23, 2313, 2012)\")\n",
    "conn.execute(\"INSERT INTO RECIPES VALUES (412, 'Chhole Bhature', 'Indian', 11, 2333, 2014)\")\n",
    "conn.execute(\"INSERT INTO RECIPES VALUES (675, 'Hakka Noodles', 'Chinese', 21, 2443, 2013)\")\n",
    "conn.execute(\"INSERT INTO RECIPES VALUES (098, 'Manchurian', 'Chinese', 13, 2333, 2020)\")\n",
    "conn.execute(\"INSERT INTO RECIPES VALUES (786, 'Idli Dosa', 'Indian', 14, 2143, '1900-01-01')\")\n",
    "conn.execute(\"INSERT INTO RECIPES VALUES (453, 'Noodles', 'Chinese', 21, 2343, 2012)\")\n",
    "conn.execute(\"INSERT INTO RECIPES VALUES (343, 'Pav-bhaji', 'Indian', 11, 2393, 2017)\")\n",
    "\n",
    "\n",
    "cur = conn.cursor()\n",
    "cur.execute(\"SELECT * FROM Recipes\")\n",
    "\n",
    "rows = cur.fetchall()\n",
    "\n",
    "for row in rows:\n",
    "      print(row)"
   ]
  }
 ],
 "metadata": {
  "kernelspec": {
   "display_name": "Python 3",
   "language": "python",
   "name": "python3"
  },
  "language_info": {
   "codemirror_mode": {
    "name": "ipython",
    "version": 3
   },
   "file_extension": ".py",
   "mimetype": "text/x-python",
   "name": "python",
   "nbconvert_exporter": "python",
   "pygments_lexer": "ipython3",
   "version": "3.8.5"
  }
 },
 "nbformat": 4,
 "nbformat_minor": 4
}
