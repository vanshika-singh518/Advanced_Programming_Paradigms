{
 "cells": [
  {
   "cell_type": "code",
   "execution_count": 2,
   "metadata": {},
   "outputs": [
    {
     "name": "stdout",
     "output_type": "stream",
     "text": [
      "I'm the producer and I produce data.I'm a consumer and I wait for data.\n",
      "Producer is going to sleep.\n",
      "\n",
      "Consumer is waiting.\n",
      "Consumer got None\n",
      "Producer is alive. Signaling the consumer.\n"
     ]
    }
   ],
   "source": [
    "import threading\n",
    "import time\n",
    "\n",
    "done = threading.Semaphore(5)\n",
    "item = None\n",
    "\n",
    "def producer():\n",
    "  global item\n",
    "  print (\"I'm the producer and I produce data.\")\n",
    "  print (\"Producer is going to sleep.\")\n",
    "  time.sleep(10)\n",
    "  item = \"Hello\"\n",
    "  print (\"Producer is alive. Signaling the consumer.\")\n",
    "  done.release()\n",
    "\n",
    "def consumer():\n",
    "  print (\"I'm a consumer and I wait for data.\")\n",
    "  print (\"Consumer is waiting.\")\n",
    "  done.acquire()\n",
    "  print (\"Consumer got\", item)\n",
    "\n",
    "t1 = threading.Thread(target=producer)\n",
    "t2 = threading.Thread(target=consumer)\n",
    "t1.start()\n",
    "t2.start()\n",
    "t1.join()\n",
    "t2.join()"
   ]
  },
  {
   "cell_type": "code",
   "execution_count": 3,
   "metadata": {},
   "outputs": [
    {
     "name": "stdout",
     "output_type": "stream",
     "text": [
      "producer: produced an item\n",
      "worker: processing 0\n",
      "worker: done\n",
      "producer: item was processed\n",
      "producer: produced an item\n",
      "worker: processing 1\n",
      "worker: done\n",
      "producer: item was processed\n",
      "producer: produced an item\n",
      "worker: processing 2\n",
      "worker: done\n",
      "producer: item was processed\n",
      "producer: produced an item\n",
      "worker: processing 3\n",
      "worker: done\n",
      "producer: item was processed\n",
      "producer: produced an item\n",
      "worker: processing 4\n",
      "worker: done\n",
      "producer: item was processed\n"
     ]
    }
   ],
   "source": [
    "import threading\n",
    "import time\n",
    "item = None\n",
    "# A semaphore to indicate that an item is available\n",
    "available = threading.Semaphore(0)\n",
    "# An event to indicate that processing is complete\n",
    "completed = threading.Event()\n",
    "# A worker thread\n",
    "def worker():\n",
    "  while True:\n",
    "    available.acquire()\n",
    "    print (\"worker: processing\", item)\n",
    "    time.sleep(5)\n",
    "    print (\"worker: done\")\n",
    "    completed.set()\n",
    "\n",
    "# A producer thread\n",
    "def producer():\n",
    "  global item\n",
    "  for x in range(5):\n",
    "    completed.clear() # Clear the event\n",
    "    item = x # Set the item\n",
    "    print (\"producer: produced an item\")\n",
    "    available.release() # Signal on the semaphore\n",
    "    completed.wait()\n",
    "    print (\"producer: item was processed\")\n",
    "t1 = threading.Thread(target=producer)\n",
    "t1.start()\n",
    "t2 = threading.Thread(target=worker)\n",
    "t2.setDaemon(True)\n",
    "t2.start()"
   ]
  },
  {
   "cell_type": "code",
   "execution_count": null,
   "metadata": {},
   "outputs": [],
   "source": []
  }
 ],
 "metadata": {
  "kernelspec": {
   "display_name": "Python 3",
   "language": "python",
   "name": "python3"
  },
  "language_info": {
   "codemirror_mode": {
    "name": "ipython",
    "version": 3
   },
   "file_extension": ".py",
   "mimetype": "text/x-python",
   "name": "python",
   "nbconvert_exporter": "python",
   "pygments_lexer": "ipython3",
   "version": "3.8.5"
  }
 },
 "nbformat": 4,
 "nbformat_minor": 4
}
