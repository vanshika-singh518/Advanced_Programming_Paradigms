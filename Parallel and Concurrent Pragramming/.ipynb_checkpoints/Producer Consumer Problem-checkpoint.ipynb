{
 "cells": [
  {
   "cell_type": "markdown",
   "metadata": {},
   "source": [
    "## Producer Consumer Problem"
   ]
  },
  {
   "cell_type": "markdown",
   "metadata": {},
   "source": [
    "The Consumer and Producer threads runs indefinitely while checking the status of the queue. The Producer thread is responsible for putting items into the queue if it is not full while the Consumer thread consumes items if there are any."
   ]
  },
  {
   "cell_type": "code",
   "execution_count": 4,
   "metadata": {},
   "outputs": [
    {
     "name": "stderr",
     "output_type": "stream",
     "text": [
      "(producer ) Putting 9 : 1 items in queue\n",
      "(consumer ) Getting 9 : 0 items in queue\n",
      "(producer ) Putting 1 : 1 items in queue\n",
      "(producer ) Putting 10 : 2 items in queue\n",
      "(consumer ) Getting 1 : 1 items in queue\n",
      "(producer ) Putting 4 : 2 items in queue\n",
      "(consumer ) Getting 10 : 1 items in queue\n",
      "(producer ) Putting 4 : 2 items in queue\n",
      "(producer ) Putting 8 : 3 items in queue\n",
      "(producer ) Putting 8 : 4 items in queue\n",
      "(producer ) Putting 5 : 5 items in queue\n",
      "(producer ) Putting 10 : 6 items in queue\n",
      "(consumer ) Getting 4 : 5 items in queue\n",
      "(producer ) Putting 1 : 6 items in queue\n",
      "(producer ) Putting 7 : 7 items in queue\n",
      "(consumer ) Getting 4 : 6 items in queue\n",
      "(consumer ) Getting 8 : 5 items in queue\n",
      "(consumer ) Getting 8 : 4 items in queue\n",
      "(consumer ) Getting 5 : 3 items in queue\n",
      "(consumer ) Getting 10 : 2 items in queue\n",
      "(producer ) Putting 2 : 3 items in queue\n",
      "(producer ) Putting 6 : 4 items in queue\n",
      "(consumer ) Getting 1 : 3 items in queue\n",
      "(consumer ) Getting 7 : 2 items in queue\n",
      "(producer ) Putting 6 : 3 items in queue\n",
      "(producer ) Putting 2 : 4 items in queue\n",
      "(consumer ) Getting 2 : 3 items in queue\n",
      "(consumer ) Getting 6 : 2 items in queue\n",
      "(consumer ) Getting 6 : 1 items in queue\n",
      "(producer ) Putting 5 : 2 items in queue\n",
      "(producer ) Putting 5 : 3 items in queue\n",
      "(consumer ) Getting 2 : 2 items in queue\n",
      "(consumer ) Getting 5 : 1 items in queue\n",
      "(consumer ) Getting 5 : 0 items in queue\n",
      "(producer ) Putting 2 : 1 items in queue\n",
      "(producer ) Putting 7 : 2 items in queue\n",
      "(producer ) Putting 1 : 3 items in queue\n",
      "(consumer ) Getting 2 : 2 items in queue\n",
      "(consumer ) Getting 7 : 1 items in queue\n",
      "(producer ) Putting 1 : 2 items in queue\n",
      "(producer ) Putting 5 : 3 items in queue\n",
      "(producer ) Putting 5 : 4 items in queue\n",
      "(producer ) Putting 9 : 5 items in queue\n",
      "(consumer ) Getting 1 : 4 items in queue\n",
      "(consumer ) Getting 1 : 3 items in queue\n",
      "(producer ) Putting 4 : 4 items in queue\n"
     ]
    }
   ],
   "source": [
    "import threading\n",
    "import time\n",
    "import logging\n",
    "import random\n",
    "import queue\n",
    "\n",
    "logging.basicConfig(level=logging.DEBUG,\n",
    "                    format='(%(threadName)-9s) %(message)s',)\n",
    "\n",
    "BUF_SIZE = 10\n",
    "q = queue.Queue(BUF_SIZE)\n",
    "\n",
    "class ProducerThread(threading.Thread):\n",
    "    def __init__(self, group=None, target=None, name=None,\n",
    "                 args=(), kwargs=None, verbose=None):\n",
    "        super(ProducerThread,self).__init__()\n",
    "        self.target = target\n",
    "        self.name = name\n",
    "\n",
    "    def run(self):\n",
    "        while True:\n",
    "            if not q.full():\n",
    "                item = random.randint(1,10)\n",
    "                q.put(item)\n",
    "                logging.debug('Putting ' + str(item)  \n",
    "                              + ' : ' + str(q.qsize()) + ' items in queue')\n",
    "                time.sleep(random.random())\n",
    "        return\n",
    "\n",
    "class ConsumerThread(threading.Thread):\n",
    "    def __init__(self, group=None, target=None, name=None,\n",
    "                 args=(), kwargs=None, verbose=None):\n",
    "        super(ConsumerThread,self).__init__()\n",
    "        self.target = target\n",
    "        self.name = name\n",
    "        return\n",
    "\n",
    "    def run(self):\n",
    "        while True:\n",
    "            if not q.empty():\n",
    "                item = q.get()\n",
    "                logging.debug('Getting ' + str(item) \n",
    "                              + ' : ' + str(q.qsize()) + ' items in queue')\n",
    "                time.sleep(random.random())\n",
    "        return\n",
    "\n",
    "if __name__ == '__main__':\n",
    "    \n",
    "    p = ProducerThread(name='producer')\n",
    "    c = ConsumerThread(name='consumer')\n",
    "\n",
    "    p.start()\n",
    "    time.sleep(2)\n",
    "    c.start()\n",
    "    time.sleep(2)"
   ]
  },
  {
   "cell_type": "markdown",
   "metadata": {},
   "source": [
    "1. Since the Queue has a Condition and that condition has its Lock we don't need to bother about Condition and Lock. Producer uses Queue.put(item[, block[, timeout]]) to insert data in the queue. It has the logic to acquire the lock before inserting data in queue. If optional args block is true and timeout is None (the default), block if necessary until a free slot is available. If timeout is a positive number, it blocks at most timeout seconds and raises the Full exception if no free slot was available within that time. Otherwise (block is false), put an item on the queue if a free slot is immediately available, else raise the Full exception (timeout is ignored in that case).\n",
    "2. Also put() checks whether the queue is full, then it calls wait() internally and so producer starts waiting.\n",
    "3. Consumer uses Queue.get([block[, timeout]]), and it acquires the lock before removing data from queue. If the queue is empty, it puts consumer in waiting state.\n",
    "4. Queue.get() and Queue.get() has notify() method.\n"
   ]
  },
  {
   "cell_type": "code",
   "execution_count": null,
   "metadata": {},
   "outputs": [],
   "source": []
  }
 ],
 "metadata": {
  "kernelspec": {
   "display_name": "Python 3",
   "language": "python",
   "name": "python3"
  },
  "language_info": {
   "codemirror_mode": {
    "name": "ipython",
    "version": 3
   },
   "file_extension": ".py",
   "mimetype": "text/x-python",
   "name": "python",
   "nbconvert_exporter": "python",
   "pygments_lexer": "ipython3",
   "version": "3.8.5"
  }
 },
 "nbformat": 4,
 "nbformat_minor": 4
}
