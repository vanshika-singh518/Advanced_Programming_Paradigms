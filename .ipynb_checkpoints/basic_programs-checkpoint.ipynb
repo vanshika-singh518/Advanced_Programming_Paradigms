{
 "cells": [
  {
   "cell_type": "code",
   "execution_count": 4,
   "metadata": {
    "colab": {
     "base_uri": "https://localhost:8080/"
    },
    "id": "mzv7ZFPrtBIn",
    "outputId": "4222f804-a578-4e55-beeb-c30bc35d29f5"
   },
   "outputs": [
    {
     "name": "stdout",
     "output_type": "stream",
     "text": [
      "Hello World!\n"
     ]
    }
   ],
   "source": [
    "#program to print Hello, World!\n",
    "print(\"Hello World!\")"
   ]
  },
  {
   "cell_type": "code",
   "execution_count": null,
   "metadata": {
    "colab": {
     "base_uri": "https://localhost:8080/"
    },
    "id": "vEqNYD1StWMi",
    "outputId": "dd3149b3-21c2-4ad5-a386-8e46981dc64e"
   },
   "outputs": [
    {
     "data": {
      "text/plain": [
       "9"
      ]
     },
     "execution_count": 2,
     "metadata": {},
     "output_type": "execute_result"
    }
   ],
   "source": [
    "4+5"
   ]
  },
  {
   "cell_type": "code",
   "execution_count": null,
   "metadata": {
    "colab": {
     "base_uri": "https://localhost:8080/"
    },
    "id": "_Nvu1QAzthR_",
    "outputId": "53c4e1ac-a8bb-4182-9c11-4d53f6099d28"
   },
   "outputs": [
    {
     "name": "stdout",
     "output_type": "stream",
     "text": [
      "Sum of 0.9 and 1.8 is 1.8\n"
     ]
    }
   ],
   "source": [
    "#program to add two numbers\n",
    "num1=0.9\n",
    "num2=1.8\n",
    "\n",
    "sum=num1+num2\n",
    "\n",
    "print('Sum of {0} and {1} is {2}'.format(num1,num2,sum))"
   ]
  },
  {
   "cell_type": "code",
   "execution_count": 3,
   "metadata": {
    "colab": {
     "base_uri": "https://localhost:8080/"
    },
    "id": "5pwqMHckt4lc",
    "outputId": "07683c58-1bde-4bbd-91ba-e1f037a83d3f"
   },
   "outputs": [
    {
     "name": "stdout",
     "output_type": "stream",
     "text": [
      "Enter the number: 6.25\n",
      "The square root of 6.250 is 2.500\n"
     ]
    }
   ],
   "source": [
    "#program to find square root of input number\n",
    "num=float(input(\"Enter the number: \"))\n",
    "sqrt=num ** 0.5\n",
    "print('The square root of %.3f is %.3f'%(num,sqrt))"
   ]
  },
  {
   "cell_type": "code",
   "execution_count": null,
   "metadata": {
    "colab": {
     "base_uri": "https://localhost:8080/"
    },
    "id": "XM_mzj2gul-D",
    "outputId": "9283c04b-43c8-4cd5-96df-f30186b11f3d"
   },
   "outputs": [
    {
     "name": "stdout",
     "output_type": "stream",
     "text": [
      "Enter first side: 3\n",
      "Enter second side: 4\n",
      "Enter third side: 5\n",
      "The area of the triangle is 6.00\n"
     ]
    }
   ],
   "source": [
    "#program to calculate area of triangle\n",
    "a = float(input('Enter first side: '))\n",
    "b = float(input('Enter second side: '))\n",
    "c = float(input('Enter third side: '))\n",
    "\n",
    "# calculate the semi-perimeter\n",
    "s = (a + b + c) / 2\n",
    "\n",
    "# calculate the area\n",
    "area = (s*(s-a)*(s-b)*(s-c)) ** 0.5\n",
    "print('The area of the triangle is %0.2f' %area)"
   ]
  },
  {
   "cell_type": "code",
   "execution_count": null,
   "metadata": {
    "colab": {
     "base_uri": "https://localhost:8080/"
    },
    "id": "sw8gej0Ju8qP",
    "outputId": "f7772145-fb55-4d9d-94ff-b42c5f2eb424"
   },
   "outputs": [
    {
     "name": "stdout",
     "output_type": "stream",
     "text": [
      "The solutions are (-3+0j) and (-2+0j)\n"
     ]
    }
   ],
   "source": [
    "#program to solve quadratic equation ax**2 + bx + c = 0\n",
    "\n",
    "#import complex math module\n",
    "import cmath\n",
    "a=1\n",
    "b=5\n",
    "c=6\n",
    "\n",
    "#calculate discriminant \n",
    "d= (b**2)-(4*a*c)\n",
    "\n",
    "#finding solutions\n",
    "sol1 = (-b-cmath.sqrt(d))/(2*a)\n",
    "sol2 = (-b+cmath.sqrt(d))/(2*a)\n",
    "\n",
    "print('The solutions are {0} and {1}'.format(sol1,sol2))\n"
   ]
  },
  {
   "cell_type": "code",
   "execution_count": null,
   "metadata": {
    "colab": {
     "base_uri": "https://localhost:8080/"
    },
    "id": "HvUGa_xowAD5",
    "outputId": "0c517ac6-64fe-454a-dec5-a5da43fb75e5"
   },
   "outputs": [
    {
     "name": "stdout",
     "output_type": "stream",
     "text": [
      "Enter value of a: 32\n",
      "Enter value of b: 23\n",
      "The value of a after swapping: 23\n",
      "The value of b after swapping: 32\n"
     ]
    }
   ],
   "source": [
    "#program to swap two numbers\n",
    "a = input('Enter value of a: ')\n",
    "b = input('Enter value of b: ')\n",
    "\n",
    "#create a temporary variable and swap the values\n",
    "temp = a\n",
    "a = b\n",
    "b = temp\n",
    "\n",
    "print('The value of a after swapping: {}'.format(a))\n",
    "print('The value of b after swapping: {}'.format(b))"
   ]
  },
  {
   "cell_type": "code",
   "execution_count": null,
   "metadata": {
    "colab": {
     "base_uri": "https://localhost:8080/"
    },
    "id": "9Y4lBGB9wwt6",
    "outputId": "61bfbdf8-d6a0-4f95-b565-8f85630d17e4"
   },
   "outputs": [
    {
     "name": "stdout",
     "output_type": "stream",
     "text": [
      "6\n"
     ]
    }
   ],
   "source": [
    "#program to generate a random number between 0 and 9\n",
    "\n",
    "#importing the random module\n",
    "import random\n",
    "\n",
    "print(random.randint(0,9))"
   ]
  },
  {
   "cell_type": "code",
   "execution_count": null,
   "metadata": {
    "colab": {
     "base_uri": "https://localhost:8080/"
    },
    "id": "W7RZ_QjzxLqN",
    "outputId": "a7c06cc8-12dc-4a72-c62d-a8f382b9f609"
   },
   "outputs": [
    {
     "name": "stdout",
     "output_type": "stream",
     "text": [
      "Enter value in kilometers: 10\n",
      "10.00 kilometers is equal to 6.21 miles\n"
     ]
    }
   ],
   "source": [
    "#Program to convert kilometers to miles\n",
    "# Taking kilometers input from the user\n",
    "kilometers = float(input(\"Enter value in kilometers: \"))\n",
    "\n",
    "# conversion factor\n",
    "conv_fac = 0.621371\n",
    "\n",
    "# calculate miles\n",
    "miles = kilometers * conv_fac\n",
    "print('%0.2f kilometers is equal to %0.2f miles' %(kilometers,miles))"
   ]
  },
  {
   "cell_type": "code",
   "execution_count": null,
   "metadata": {
    "colab": {
     "base_uri": "https://localhost:8080/"
    },
    "id": "AYqWl7JCxbMX",
    "outputId": "79db0311-271f-4ee6-83c3-66cfc95ef8e6"
   },
   "outputs": [
    {
     "name": "stdout",
     "output_type": "stream",
     "text": [
      "Enter temperature in Celsius: 37.5\n",
      "37.5 degree Celsius is equal to 99.5 degree Fahrenheit\n"
     ]
    }
   ],
   "source": [
    "#program to convert temperature in celsius to fahrenheit\n",
    "\n",
    "celsius = float(input(\"Enter temperature in Celsius: \"))\n",
    "\n",
    "# calculate fahrenheit\n",
    "fahrenheit = (celsius * 1.8) + 32\n",
    "print('%0.1f degree Celsius is equal to %0.1f degree Fahrenheit' %(celsius,fahrenheit))"
   ]
  },
  {
   "cell_type": "code",
   "execution_count": null,
   "metadata": {
    "colab": {
     "base_uri": "https://localhost:8080/"
    },
    "id": "pUooiXjmx0Bn",
    "outputId": "3cdd25d5-e5b9-4a5f-d9ce-80f0ea7bffe8"
   },
   "outputs": [
    {
     "name": "stdout",
     "output_type": "stream",
     "text": [
      "Enter the number: 8\n",
      "Positive Number\n"
     ]
    }
   ],
   "source": [
    "#program to check if the number is positive, negative or zero\n",
    "num = float(input(\"Enter the number: \"))\n",
    "if num > 0:\n",
    "  print(\"Positive Number\")\n",
    "elif num == 0:\n",
    "  print(\"Zero\")\n",
    "else:\n",
    "  print(\"Negative Number\")"
   ]
  },
  {
   "cell_type": "code",
   "execution_count": null,
   "metadata": {
    "colab": {
     "base_uri": "https://localhost:8080/"
    },
    "id": "2yOaJ7i_ycG_",
    "outputId": "cf47bac8-eef5-468c-e950-7605422bbd38"
   },
   "outputs": [
    {
     "name": "stdout",
     "output_type": "stream",
     "text": [
      "Enter the number: 0\n",
      "Zero\n"
     ]
    }
   ],
   "source": [
    "#program to check if the number is positive, negative or zero using nested if\n",
    "num = float(input(\"Enter the number: \"))\n",
    "if num >= 0:\n",
    "  if num == 0:\n",
    "    print(\"Zero\")\n",
    "  else:\n",
    "    print(\"Positive Number\")\n",
    "else:\n",
    "  print(\"Negative Number\")"
   ]
  },
  {
   "cell_type": "code",
   "execution_count": null,
   "metadata": {
    "colab": {
     "base_uri": "https://localhost:8080/"
    },
    "id": "rzOtPCUoysql",
    "outputId": "7bb73aa5-e66c-4620-cbed-e08a3f01d27e"
   },
   "outputs": [
    {
     "name": "stdout",
     "output_type": "stream",
     "text": [
      "Enter the number: 79\n",
      "Odd\n"
     ]
    }
   ],
   "source": [
    "#program to check if input number is odd or even\n",
    "num = int(input('Enter the number: '))\n",
    "if (num % 2) == 0:\n",
    "  print(\"Even\")\n",
    "else:\n",
    "  print(\"Odd\")"
   ]
  },
  {
   "cell_type": "code",
   "execution_count": null,
   "metadata": {
    "colab": {
     "base_uri": "https://localhost:8080/"
    },
    "id": "dmHiQotLzVAr",
    "outputId": "2c3254c9-aea7-45a4-9d83-d72213d505ad"
   },
   "outputs": [
    {
     "name": "stdout",
     "output_type": "stream",
     "text": [
      "Enter a year: 2014\n",
      "2014 is not a leap year\n"
     ]
    }
   ],
   "source": [
    "#program to check if the input year is a leap year or not\n",
    "year = int(input(\"Enter a year: \"))\n",
    "\n",
    "# divided by 100 means century year (ending with 00)\n",
    "# century year divided by 400 is leap year\n",
    "if (year % 400 == 0) and (year % 100 == 0):\n",
    "    print(\"{0} is a leap year\".format(year))\n",
    "\n",
    "# not divided by 100 means not a century year\n",
    "# year divided by 4 is a leap year\n",
    "elif (year % 4 ==0) and (year % 100 != 0):\n",
    "    print(\"{0} is a leap year\".format(year))\n",
    "\n",
    "# if not divided by both 400 (century year) and 4 (not century year)\n",
    "# year is not leap year\n",
    "else:\n",
    "    print(\"{0} is not a leap year\".format(year))"
   ]
  },
  {
   "cell_type": "code",
   "execution_count": null,
   "metadata": {
    "colab": {
     "base_uri": "https://localhost:8080/"
    },
    "id": "orDVUiJxzqUJ",
    "outputId": "313b43a7-fe0c-4d4d-d250-0718df0c079d"
   },
   "outputs": [
    {
     "name": "stdout",
     "output_type": "stream",
     "text": [
      "Enter first number: 34\n",
      "Enter second number: 56\n",
      "Enter third number: 90\n",
      "The largest number is 90.0\n"
     ]
    }
   ],
   "source": [
    "#program to find largest number among three input values \n",
    "num1 = float(input(\"Enter first number: \"))\n",
    "num2 = float(input(\"Enter second number: \"))\n",
    "num3 = float(input(\"Enter third number: \"))\n",
    "\n",
    "if (num1 >= num2) and (num1 >= num3):\n",
    "   largest = num1\n",
    "elif (num2 >= num1) and (num2 >= num3):\n",
    "   largest = num2\n",
    "else:\n",
    "   largest = num3\n",
    "\n",
    "print(\"The largest number is\", largest)"
   ]
  },
  {
   "cell_type": "code",
   "execution_count": null,
   "metadata": {
    "id": "bTGOR9qe0Lqf"
   },
   "outputs": [],
   "source": [
    "#program to check if input number is prime or not\n",
    "num = int(input(\"Enter a number: \"))\n"
   ]
  }
 ],
 "metadata": {
  "colab": {
   "collapsed_sections": [],
   "name": "basic programs.ipynb",
   "provenance": []
  },
  "kernelspec": {
   "display_name": "Python 3",
   "language": "python",
   "name": "python3"
  },
  "language_info": {
   "codemirror_mode": {
    "name": "ipython",
    "version": 3
   },
   "file_extension": ".py",
   "mimetype": "text/x-python",
   "name": "python",
   "nbconvert_exporter": "python",
   "pygments_lexer": "ipython3",
   "version": "3.8.5"
  }
 },
 "nbformat": 4,
 "nbformat_minor": 1
}
