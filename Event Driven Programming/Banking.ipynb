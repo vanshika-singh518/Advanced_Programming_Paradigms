{
 "cells": [
  {
   "cell_type": "code",
   "execution_count": null,
   "metadata": {},
   "outputs": [],
   "source": [
    "import tkinter as tk\n",
    "from tkinter import *\n",
    "\n",
    "root=tk.Tk()\n",
    "root.title('Banking')\n",
    "\n",
    "\n",
    "l1=tk.Label(root,text=\"Custid\")\n",
    "l1.grid(row=0)\n",
    "t1=tk.Entry(root)\n",
    "t1.grid(row=0,column=1)\n",
    "l2=tk.Label(root,text=\"Customer Name\")\n",
    "l2.grid(row=1)\n",
    "t2=tk.Entry(root)\n",
    "t2.grid(row=1,column=1)\n",
    "l3=tk.Label(root,text=\"Branch\")\n",
    "l3.grid(row=2)\n",
    "t3=tk.Entry(root)\n",
    "t3.grid(row=2,column=1)\n",
    "acctype=IntVar()\n",
    "def acctype():\n",
    "    print(acctype.get())\n",
    "g=tk.Label(root,text=\"Account Type\")\n",
    "g.grid(row=3,column=0)\n",
    "g1=Radiobutton(root,text=\"Saving\",variable=acctype,width=25,value=1,command=acctype)\n",
    "g1.grid(row=3,column=1)\n",
    "g2=Radiobutton(root,text=\"Non-Saving\",variable=acctype,width=25,value=2,command=acctype)\n",
    "g2.grid(row=3,column=2)\n",
    "age=tk.Label(root,text=\"Amount\")\n",
    "age.grid(row=4,column=0)\n",
    "age=Scale(root, from_=19, to= 130, orient=HORIZONTAL)\n",
    "age.grid(row=4,column=1)\n",
    "insert=tk.Button(root,text=\"Insert\",width=5,command=root.destroy)\n",
    "insert.grid(row=5,column=0)\n",
    "update=tk.Button(root,text=\"Update\",width=5,command=root.destroy)\n",
    "update.grid(row=5,column=1)\n",
    "delete=tk.Button(root,text=\"Delete\",width=5,command=root.destroy)\n",
    "delete.grid(row=6,column=0)\n",
    "select=tk.Button(root,text=\"Select\",width=5,command=root.destroy)\n",
    "select.grid(row=6,column=1)\n",
    "\n",
    "root.mainloop()"
   ]
  },
  {
   "cell_type": "code",
   "execution_count": null,
   "metadata": {},
   "outputs": [],
   "source": []
  }
 ],
 "metadata": {
  "kernelspec": {
   "display_name": "Python 3",
   "language": "python",
   "name": "python3"
  },
  "language_info": {
   "codemirror_mode": {
    "name": "ipython",
    "version": 3
   },
   "file_extension": ".py",
   "mimetype": "text/x-python",
   "name": "python",
   "nbconvert_exporter": "python",
   "pygments_lexer": "ipython3",
   "version": "3.8.5"
  }
 },
 "nbformat": 4,
 "nbformat_minor": 4
}
