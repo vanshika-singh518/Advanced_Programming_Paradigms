{
 "cells": [
  {
   "cell_type": "code",
   "execution_count": null,
   "metadata": {},
   "outputs": [],
   "source": [
    "#program to display a window on the screen\n",
    "\n",
    "#import the tkinter module as tk to the program\n",
    "import tkinter as tk\n",
    "\n",
    "#create an instance of the tk.Tk class that will create the application window\n",
    "root = tk.Tk()\n",
    "#By convention, the main window in Tkinter is called root. But you can use any other name like main.\n",
    "#call the mainloop() method of the main window object\n",
    "root.mainloop()"
   ]
  },
  {
   "cell_type": "markdown",
   "metadata": {},
   "source": [
    "The mainloop() keeps the window visible on the screen. If you don’t call the mainloop() method, the window will display and disappear immediately. It will be so fast that you may not see its appearance. <br> Also, the mainloop() method keeps the window displaying and running until you close it.<br>Typically, you place the call to the mainloop() method as the last statement in a Tkinter program, after creating the widgets."
   ]
  },
  {
   "cell_type": "markdown",
   "metadata": {},
   "source": [
    "### Displaying a Label"
   ]
  },
  {
   "cell_type": "code",
   "execution_count": null,
   "metadata": {},
   "outputs": [],
   "source": [
    "import tkinter as tk\n",
    "\n",
    "root = tk.Tk()\n",
    "# place a label on the root window\n",
    "message = tk.Label(root, text=\"Hello, World!\")\n",
    "message.pack()\n",
    "# keep the window displaying\n",
    "root.mainloop()"
   ]
  },
  {
   "cell_type": "markdown",
   "metadata": {},
   "source": [
    "To create a widget that belongs to a container, you use the following syntax:\n",
    "widget = WidgetName(container, **options)\n",
    "\n",
    "In this syntax:<br>\n",
    "• The container is the parent window or frame that you want to place the widget.<br>\n",
    "• The options is one or more keyword arguments that specify the configurations of the widget.\n",
    "\n",
    "In the program, the following creates a Label widget placed on the root window:<br>\n",
    "message = tk.Label(root, text=\"Hello, World!\")\n",
    "\n",
    "And the following statement positions the Label on the main window:\n",
    "message.pack()"
   ]
  },
  {
   "cell_type": "code",
   "execution_count": null,
   "metadata": {},
   "outputs": [],
   "source": [
    "#changes the size of the window to 600x400 and the position of the window to 50 pixels from the top and left of the screen:\n",
    "import tkinter as tk\n",
    "root = tk.Tk()\n",
    "root.title('Tkinter Window Demo')\n",
    "root.geometry('600x400+50+50')\n",
    "root.mainloop()"
   ]
  },
  {
   "cell_type": "code",
   "execution_count": null,
   "metadata": {},
   "outputs": [],
   "source": [
    "# to bring the window in the center\n",
    "import tkinter as tk\n",
    "root = tk.Tk()\n",
    "root.title('Tkinter Window - Center')\n",
    "window_width = 300\n",
    "window_height = 200\n",
    "# get the screen dimension\n",
    "screen_width = root.winfo_screenwidth()\n",
    "screen_height = root.winfo_screenheight()\n",
    "# find the center point\n",
    "center_x = int(screen_width/2 - window_width / 2)\n",
    "center_y = int(screen_height/2 - window_height / 2)\n",
    "# set the position of the window to the center of the screen\n",
    "root.geometry(f'{window_width}x{window_height}+{center_x}+{center_y}')\n",
    "root.mainloop()"
   ]
  }
 ],
 "metadata": {
  "kernelspec": {
   "display_name": "Python 3",
   "language": "python",
   "name": "python3"
  },
  "language_info": {
   "codemirror_mode": {
    "name": "ipython",
    "version": 3
   },
   "file_extension": ".py",
   "mimetype": "text/x-python",
   "name": "python",
   "nbconvert_exporter": "python",
   "pygments_lexer": "ipython3",
   "version": "3.8.5"
  }
 },
 "nbformat": 4,
 "nbformat_minor": 4
}
