{
 "cells": [
  {
   "cell_type": "code",
   "execution_count": null,
   "metadata": {},
   "outputs": [],
   "source": [
    "import tkinter as tk\n",
    "from tkinter import *\n",
    "\n",
    "root = tk.Tk()\n",
    "root.title('Student')\n",
    "\n",
    "\n",
    "l1 = tk.Label(root,text=\"Regno\")\n",
    "l1.grid(row=0)\n",
    "t1 = tk.Entry(root)\n",
    "t1.grid(row=0,column=1)\n",
    "l2 = tk.Label(root,text=\"Name:\")\n",
    "l2.grid(row=1)\n",
    "t2 = tk.Entry(root)\n",
    "t2.grid(row=1,column=1)\n",
    "l3 = tk.Label(root,text=\"Dept\")\n",
    "l3.grid(row=2)\n",
    "t3 = tk.Entry(root)\n",
    "t3.grid(row=2,column=1)\n",
    "gender = IntVar()\n",
    "def gen():\n",
    "    print(gender.get())\n",
    "g = tk.Label(root,text=\"Gender\")\n",
    "g.grid(row=3,column=0)\n",
    "g1 = Radiobutton(root,text=\"Male\",variable=gender,width=25,value=1,command=gen)\n",
    "g1.grid(row=3,column=1)\n",
    "g2 = Radiobutton(root,text=\"Female\",variable=gender,width=25,value=2,command=gen)\n",
    "g2.grid(row=3,column=2)\n",
    "age = tk.Label(root,text=\"Age\")\n",
    "age.grid(row=4,column=0)\n",
    "age = Spinbox(root,from_=0, to = 30)\n",
    "age.grid(row=4,column=1)\n",
    "insert=tk.Button(root,text=\"Insert\",width=5,command=root.destroy)\n",
    "insert.grid(row=5,column=0)\n",
    "update = tk.Button(root,text=\"Update\",width=5,command=root.destroy)\n",
    "update.grid(row=5,column=1)\n",
    "delete = tk.Button(root,text=\"Delete\",width=5,command=root.destroy)\n",
    "delete.grid(row=6,column=0)\n",
    "select = tk.Button(root,text=\"Select\",width=5,command=root.destroy)\n",
    "select.grid(row=6,column=1)\n",
    "\n",
    "root.mainloop()"
   ]
  },
  {
   "cell_type": "code",
   "execution_count": null,
   "metadata": {},
   "outputs": [],
   "source": []
  }
 ],
 "metadata": {
  "kernelspec": {
   "display_name": "Python 3",
   "language": "python",
   "name": "python3"
  },
  "language_info": {
   "codemirror_mode": {
    "name": "ipython",
    "version": 3
   },
   "file_extension": ".py",
   "mimetype": "text/x-python",
   "name": "python",
   "nbconvert_exporter": "python",
   "pygments_lexer": "ipython3",
   "version": "3.8.5"
  }
 },
 "nbformat": 4,
 "nbformat_minor": 4
}
